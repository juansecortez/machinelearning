{
  "nbformat": 4,
  "nbformat_minor": 0,
  "metadata": {
    "colab": {
      "name": "Untitled0.ipynb",
      "provenance": []
    },
    "kernelspec": {
      "name": "python3",
      "display_name": "Python 3"
    },
    "language_info": {
      "name": "python"
    }
  },
  "cells": [
    {
      "cell_type": "code",
      "execution_count": null,
      "metadata": {
        "id": "YAuHDgt8fqlV"
      },
      "outputs": [],
      "source": [
        ""
      ]
    },
    {
      "cell_type": "markdown",
      "source": [
        "\n",
        "\n",
        "*  @Autor:Juan Sebastian Suarez Corredor\n",
        "*  @Date:2022/Feb/19\n",
        "*  \n",
        "@Description:This python notebook shows basic exercises in python.\n",
        "\n",
        "\n",
        "\n",
        "\n",
        "\n",
        "\n"
      ],
      "metadata": {
        "id": "jBd6b_rofrOh"
      }
    },
    {
      "cell_type": "markdown",
      "source": [
        "# **Ejercicios Basicos**"
      ],
      "metadata": {
        "id": "-E1yYUiYgDKE"
      }
    },
    {
      "cell_type": "markdown",
      "source": [
        "# Ejercicio 1: Productos + IVA"
      ],
      "metadata": {
        "id": "pm6Xp7eagc9p"
      }
    },
    {
      "cell_type": "code",
      "source": [
        "prod1=int(input(\"Input first product:\"))\n",
        "prod2=int(input(\"Input second product:\"))\n",
        "prod3=int(input(\"Input third product:\"))\n",
        "prod4=int(input(\"Input fourth product:\"))\n",
        "prod5=int(input(\"Input fifth product:\"))\n",
        "suma=(prod1+prod2+prod3+prod4+prod5)\n",
        "iva=suma *0.19\n",
        "total=suma+iva\n",
        "print(\"Valor bruto\",suma,\"\\nIVA:\",iva,\"\\nTOTAL:\",total)"
      ],
      "metadata": {
        "id": "5dHyZX6WgheI"
      },
      "execution_count": null,
      "outputs": []
    },
    {
      "cell_type": "markdown",
      "source": [
        "VERSION PYTON"
      ],
      "metadata": {
        "id": "SiebMh2jgly_"
      }
    },
    {
      "cell_type": "code",
      "source": [
        "pro1,pro2,pro3,pro4,pro5=input(\"input 1°,2°,3°,4° and 5° products, separate with comma:\").split(\",\")\n",
        "suma=(pro1+pro2+pro3+pro4+pro5)\n",
        "print(\"Valor bruto\",suma,\"\\nIVA:\",iva,\"\\nTOTAL:\",total)"
      ],
      "metadata": {
        "id": "izEiUvRQgqaf"
      },
      "execution_count": null,
      "outputs": []
    },
    {
      "cell_type": "markdown",
      "source": [
        "# Ejercicio 2"
      ],
      "metadata": {
        "id": "Bo8kbeQIgwd5"
      }
    },
    {
      "cell_type": "code",
      "source": [
        "var1=float(int(input(\"Enter the first number: \")))\n",
        "var2=float(int(input(\"Enter the second number: \")))\n",
        "var3=float(int(input(\"Enter the third number: \")))\n",
        "if (var1 >= var2) and (var1 >= var3):\n",
        "   largest = var1\n",
        "elif (var2 >= var1) and (var2 >= var3):\n",
        "   largest = var2\n",
        "else:\n",
        "   largest = var3\n",
        "print(\"The largest number is\", largest)\n",
        "if (var1 <= var2) and (var1 <= var3):\n",
        "   smallest = var1\n",
        "elif (var2 <= var1) and (var2 <= var3):\n",
        "   smallest = var2\n",
        "else:\n",
        "   smallest = var3\n",
        "print(\"The smallest number is\", smallest)\n",
        "sum=var1+var2+var3\n",
        "average=sum/3\n",
        "print(\"The average is\", average)"
      ],
      "metadata": {
        "id": "ltZM4eDCg3Ap"
      },
      "execution_count": null,
      "outputs": []
    },
    {
      "cell_type": "markdown",
      "source": [
        "VERSION PYTON"
      ],
      "metadata": {
        "id": "6Ahx9W7Vg5GO"
      }
    },
    {
      "cell_type": "code",
      "source": [
        "var1,var2,var3=input(\"Enter 3 numbers separated by comma:\").split(\",\")\n",
        "print(\"The largest number is:\"+str(max(int(var1),int(var2),int(var3))),\"The smallest number is: \"+str(min(int(var1),int(var2),int(var3))), \"The average is"
      ],
      "metadata": {
        "id": "-xAIOa54g7IW"
      },
      "execution_count": null,
      "outputs": []
    },
    {
      "cell_type": "markdown",
      "source": [
        "# Ejercicio 3"
      ],
      "metadata": {
        "id": "p5oogizjhIfz"
      }
    },
    {
      "cell_type": "code",
      "source": [
        "list1 = []\n",
        "num = int(input(\"Enter number of elements in list: \"))\n",
        "total_sum = 0\n",
        "for i in range(1, num + 1):\n",
        "    ele= int(input(\"Enter elements: \"))\n",
        "    list1.append(ele)\n",
        "    total_sum += ele\n",
        "avg = total_sum/num\n",
        "print(\"List:\",list1)\n",
        "list1.sort()\n",
        "print(\"Sorted list in ascending order:\",list1)\n",
        "list1.sort(reverse = True)\n",
        "print(\"Sorted list in descending order:\",list1)\n",
        "maximum = max(list1)\n",
        "print(\"The largest number is:\",maximum)\n",
        "minimum = min(list1)\n",
        "print(\"The smallest number is:\",minimum)\n",
        "print(\"Average of the list =\", round(avg, 2))"
      ],
      "metadata": {
        "id": "WVYehiGfhLlf"
      },
      "execution_count": null,
      "outputs": []
    },
    {
      "cell_type": "markdown",
      "source": [
        "VERSION PYTON"
      ],
      "metadata": {
        "id": "XEkvBz27hSxp"
      }
    },
    {
      "cell_type": "code",
      "source": [
        "list1 = []\n",
        "num = int(input(\"Enter number of elements in list: \"))\n",
        "total_sum=0\n",
        "for i in range(1, num + 1):\n",
        "    ele= int(input(\"Enter elements: \"))\n",
        "    list1.append(ele)\n",
        "    total_sum += ele\n",
        "\n",
        "print(\"List:\",list1)\n",
        "\n",
        "list1.sort()\n",
        "print(\"Sorted list in ascending order:\",list1)\n",
        "\n",
        "list1.sort(reverse = True)\n",
        "print(\"Sorted list in descending order:\",list1)\n",
        "\n",
        "print(\"The largest number is:\",maximum, \"The smallest number is:\",minimum, \"The average is:\",avg)"
      ],
      "metadata": {
        "id": "2E_cKzT8hWww"
      },
      "execution_count": null,
      "outputs": []
    }
  ]
}