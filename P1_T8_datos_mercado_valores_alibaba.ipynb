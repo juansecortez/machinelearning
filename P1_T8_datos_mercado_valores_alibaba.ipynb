{
  "nbformat": 4,
  "nbformat_minor": 0,
  "metadata": {
    "colab": {
      "name": "P1_T8_datos_mercado_valores_alibaba.ipynb",
      "provenance": [],
      "collapsed_sections": []
    },
    "kernelspec": {
      "name": "python3",
      "display_name": "Python 3"
    },
    "language_info": {
      "name": "python"
    }
  },
  "cells": [
    {
      "cell_type": "markdown",
      "source": [
        "#Description: \n",
        "\n",
        "\n",
        "- @Author: Juan sebastian suarez corredor\n",
        "- @Date:2022/03/19\n",
        "- @Description: We are going to apply the algorithm on a data set of Alibaba shares from the United States stock market, where we will find:\n",
        "\n",
        "  - The CLOSE signal (daily closing price)\n",
        "  - The VOLUME signal (number of shares that have changed hands over that period of time).\n"
      ],
      "metadata": {
        "id": "VwVNb58upUxI"
      }
    },
    {
      "cell_type": "markdown",
      "source": [
        "#DATOS DE MERCADEO DE VALORES (Acciones de Alibaba)"
      ],
      "metadata": {
        "id": "RmjlmVBWp3Aj"
      }
    },
    {
      "cell_type": "markdown",
      "source": [
        "#Importando librerías generales\n"
      ],
      "metadata": {
        "id": "uYEabX5uD7Gw"
      }
    },
    {
      "cell_type": "code",
      "source": [
        "import numpy as np\n",
        "import pandas as pd\n",
        "from sklearn.cluster import KMeans\n",
        "from sklearn import preprocessing  #para normalizar los datos antes de aplicar al algoritmo\n",
        "from sklearn.metrics import pairwise_distances_argmin_min\n",
        "\n",
        "import matplotlib.pyplot as plt\n",
        "import seaborn as sb\n",
        "from mpl_toolkits.mplot3d import Axes3D\n",
        "\n",
        "#configuraciones basicas para PLT\n",
        "%matplotlib inline\n",
        "plt.rcParams['figure.figsize'] = (16, 9)\n",
        "plt.style.use('ggplot')"
      ],
      "metadata": {
        "id": "ZA8pZTdGZZOj"
      },
      "execution_count": 1,
      "outputs": []
    },
    {
      "cell_type": "markdown",
      "source": [
        "#Descargando data usando Web-scrawping\n"
      ],
      "metadata": {
        "id": "SRInbPIfZhCU"
      }
    },
    {
      "cell_type": "code",
      "source": [
        "UrlWeb= \"https://finance.yahoo.com/quote/BABA/history?period1=1577836800&period2=1647648000&interval=1d&filter=history&frequency=1d&includeAdjustedClose=true\"\n",
        "ClassName=\"W(100%) M(0)\"  "
      ],
      "metadata": {
        "id": "btne0Qx7Zic9"
      },
      "execution_count": 7,
      "outputs": []
    },
    {
      "cell_type": "markdown",
      "source": [
        "#Importando Beautiful"
      ],
      "metadata": {
        "id": "TXlToF1_EEco"
      }
    },
    {
      "cell_type": "code",
      "source": [
        "import requests                           # libreria para manejar pedidos internet\n",
        "from bs4 import BeautifulSoup             # libreria para parsear documentos HTML"
      ],
      "metadata": {
        "id": "-PNlgVQWCYk5"
      },
      "execution_count": 8,
      "outputs": []
    },
    {
      "cell_type": "markdown",
      "source": [
        "Opt2-con Selenium\n",
        "\n",
        "\n"
      ],
      "metadata": {
        "id": "3xxq0J9vaC2K"
      }
    },
    {
      "cell_type": "code",
      "source": [
        "!pip install kora -q\n",
        "!apt install chromium-chromedriver\n",
        "!pip install selenium"
      ],
      "metadata": {
        "colab": {
          "base_uri": "https://localhost:8080/"
        },
        "id": "I130FRhxaEAa",
        "outputId": "8a94f29c-d51a-4a6b-bf03-45a3afe527c0"
      },
      "execution_count": 9,
      "outputs": [
        {
          "output_type": "stream",
          "name": "stdout",
          "text": [
            "Reading package lists... Done\n",
            "Building dependency tree       \n",
            "Reading state information... Done\n",
            "chromium-chromedriver is already the newest version (99.0.4844.51-0ubuntu0.18.04.1).\n",
            "0 upgraded, 0 newly installed, 0 to remove and 63 not upgraded.\n",
            "Requirement already satisfied: selenium in /usr/local/lib/python3.7/dist-packages (4.1.3)\n",
            "Requirement already satisfied: trio-websocket~=0.9 in /usr/local/lib/python3.7/dist-packages (from selenium) (0.9.2)\n",
            "Requirement already satisfied: trio~=0.17 in /usr/local/lib/python3.7/dist-packages (from selenium) (0.20.0)\n",
            "Requirement already satisfied: urllib3[secure,socks]~=1.26 in /usr/local/lib/python3.7/dist-packages (from selenium) (1.26.9)\n",
            "Requirement already satisfied: sortedcontainers in /usr/local/lib/python3.7/dist-packages (from trio~=0.17->selenium) (2.4.0)\n",
            "Requirement already satisfied: outcome in /usr/local/lib/python3.7/dist-packages (from trio~=0.17->selenium) (1.1.0)\n",
            "Requirement already satisfied: sniffio in /usr/local/lib/python3.7/dist-packages (from trio~=0.17->selenium) (1.2.0)\n",
            "Requirement already satisfied: idna in /usr/local/lib/python3.7/dist-packages (from trio~=0.17->selenium) (2.10)\n",
            "Requirement already satisfied: async-generator>=1.9 in /usr/local/lib/python3.7/dist-packages (from trio~=0.17->selenium) (1.10)\n",
            "Requirement already satisfied: attrs>=19.2.0 in /usr/local/lib/python3.7/dist-packages (from trio~=0.17->selenium) (21.4.0)\n",
            "Requirement already satisfied: wsproto>=0.14 in /usr/local/lib/python3.7/dist-packages (from trio-websocket~=0.9->selenium) (1.1.0)\n",
            "Requirement already satisfied: pyOpenSSL>=0.14 in /usr/local/lib/python3.7/dist-packages (from urllib3[secure,socks]~=1.26->selenium) (22.0.0)\n",
            "Requirement already satisfied: certifi in /usr/local/lib/python3.7/dist-packages (from urllib3[secure,socks]~=1.26->selenium) (2021.10.8)\n",
            "Requirement already satisfied: cryptography>=1.3.4 in /usr/local/lib/python3.7/dist-packages (from urllib3[secure,socks]~=1.26->selenium) (36.0.2)\n",
            "Requirement already satisfied: PySocks!=1.5.7,<2.0,>=1.5.6 in /usr/local/lib/python3.7/dist-packages (from urllib3[secure,socks]~=1.26->selenium) (1.7.1)\n",
            "Requirement already satisfied: cffi>=1.12 in /usr/local/lib/python3.7/dist-packages (from cryptography>=1.3.4->urllib3[secure,socks]~=1.26->selenium) (1.15.0)\n",
            "Requirement already satisfied: pycparser in /usr/local/lib/python3.7/dist-packages (from cffi>=1.12->cryptography>=1.3.4->urllib3[secure,socks]~=1.26->selenium) (2.21)\n",
            "Requirement already satisfied: h11<1,>=0.9.0 in /usr/local/lib/python3.7/dist-packages (from wsproto>=0.14->trio-websocket~=0.9->selenium) (0.13.0)\n",
            "Requirement already satisfied: typing-extensions in /usr/local/lib/python3.7/dist-packages (from h11<1,>=0.9.0->wsproto>=0.14->trio-websocket~=0.9->selenium) (3.10.0.2)\n"
          ]
        }
      ]
    },
    {
      "cell_type": "code",
      "source": [
        "from kora.selenium import wd\n",
        "wd.get(UrlWeb)\n",
        "soup = BeautifulSoup(wd.page_source, 'html.parser') "
      ],
      "metadata": {
        "id": "OWG45ivuaHpQ"
      },
      "execution_count": 18,
      "outputs": []
    },
    {
      "cell_type": "code",
      "source": [
        "tabla= soup.find_all(class_=ClassName)\n",
        "\n",
        "df_list_table=pd.read_html(str(tabla))                                      # LEEMOS el THEAD y TBODY y lo guardamos en una lista\n",
        "df=pd.DataFrame(df_list_table[0])    "
      ],
      "metadata": {
        "id": "wl6FxKrGm0Io",
        "colab": {
          "base_uri": "https://localhost:8080/",
          "height": 358
        },
        "outputId": "2b476a7d-dca0-412b-9dbb-682d9db06872"
      },
      "execution_count": 19,
      "outputs": [
        {
          "output_type": "error",
          "ename": "ValueError",
          "evalue": "ignored",
          "traceback": [
            "\u001b[0;31m---------------------------------------------------------------------------\u001b[0m",
            "\u001b[0;31mValueError\u001b[0m                                Traceback (most recent call last)",
            "\u001b[0;32m<ipython-input-19-4380eae3bbdf>\u001b[0m in \u001b[0;36m<module>\u001b[0;34m()\u001b[0m\n\u001b[1;32m      1\u001b[0m \u001b[0mtabla\u001b[0m\u001b[0;34m=\u001b[0m \u001b[0msoup\u001b[0m\u001b[0;34m.\u001b[0m\u001b[0mfind_all\u001b[0m\u001b[0;34m(\u001b[0m\u001b[0mclass_\u001b[0m\u001b[0;34m=\u001b[0m\u001b[0mClassName\u001b[0m\u001b[0;34m)\u001b[0m\u001b[0;34m\u001b[0m\u001b[0;34m\u001b[0m\u001b[0m\n\u001b[0;32m----> 2\u001b[0;31m \u001b[0mdf_list_table\u001b[0m\u001b[0;34m=\u001b[0m\u001b[0mpd\u001b[0m\u001b[0;34m.\u001b[0m\u001b[0mread_html\u001b[0m\u001b[0;34m(\u001b[0m\u001b[0mstr\u001b[0m\u001b[0;34m(\u001b[0m\u001b[0mtabla\u001b[0m\u001b[0;34m)\u001b[0m\u001b[0;34m)\u001b[0m                                      \u001b[0;31m# LEEMOS el THEAD y TBODY y lo guardamos en una lista\u001b[0m\u001b[0;34m\u001b[0m\u001b[0;34m\u001b[0m\u001b[0m\n\u001b[0m\u001b[1;32m      3\u001b[0m \u001b[0mdf\u001b[0m\u001b[0;34m=\u001b[0m\u001b[0mpd\u001b[0m\u001b[0;34m.\u001b[0m\u001b[0mDataFrame\u001b[0m\u001b[0;34m(\u001b[0m\u001b[0mdf_list_table\u001b[0m\u001b[0;34m[\u001b[0m\u001b[0;36m0\u001b[0m\u001b[0;34m]\u001b[0m\u001b[0;34m)\u001b[0m\u001b[0;34m\u001b[0m\u001b[0;34m\u001b[0m\u001b[0m\n",
            "\u001b[0;32m/usr/local/lib/python3.7/dist-packages/pandas/util/_decorators.py\u001b[0m in \u001b[0;36mwrapper\u001b[0;34m(*args, **kwargs)\u001b[0m\n\u001b[1;32m    309\u001b[0m                     \u001b[0mstacklevel\u001b[0m\u001b[0;34m=\u001b[0m\u001b[0mstacklevel\u001b[0m\u001b[0;34m,\u001b[0m\u001b[0;34m\u001b[0m\u001b[0;34m\u001b[0m\u001b[0m\n\u001b[1;32m    310\u001b[0m                 )\n\u001b[0;32m--> 311\u001b[0;31m             \u001b[0;32mreturn\u001b[0m \u001b[0mfunc\u001b[0m\u001b[0;34m(\u001b[0m\u001b[0;34m*\u001b[0m\u001b[0margs\u001b[0m\u001b[0;34m,\u001b[0m \u001b[0;34m**\u001b[0m\u001b[0mkwargs\u001b[0m\u001b[0;34m)\u001b[0m\u001b[0;34m\u001b[0m\u001b[0;34m\u001b[0m\u001b[0m\n\u001b[0m\u001b[1;32m    312\u001b[0m \u001b[0;34m\u001b[0m\u001b[0m\n\u001b[1;32m    313\u001b[0m         \u001b[0;32mreturn\u001b[0m \u001b[0mwrapper\u001b[0m\u001b[0;34m\u001b[0m\u001b[0;34m\u001b[0m\u001b[0m\n",
            "\u001b[0;32m/usr/local/lib/python3.7/dist-packages/pandas/io/html.py\u001b[0m in \u001b[0;36mread_html\u001b[0;34m(io, match, flavor, header, index_col, skiprows, attrs, parse_dates, thousands, encoding, decimal, converters, na_values, keep_default_na, displayed_only)\u001b[0m\n\u001b[1;32m   1111\u001b[0m         \u001b[0mna_values\u001b[0m\u001b[0;34m=\u001b[0m\u001b[0mna_values\u001b[0m\u001b[0;34m,\u001b[0m\u001b[0;34m\u001b[0m\u001b[0;34m\u001b[0m\u001b[0m\n\u001b[1;32m   1112\u001b[0m         \u001b[0mkeep_default_na\u001b[0m\u001b[0;34m=\u001b[0m\u001b[0mkeep_default_na\u001b[0m\u001b[0;34m,\u001b[0m\u001b[0;34m\u001b[0m\u001b[0;34m\u001b[0m\u001b[0m\n\u001b[0;32m-> 1113\u001b[0;31m         \u001b[0mdisplayed_only\u001b[0m\u001b[0;34m=\u001b[0m\u001b[0mdisplayed_only\u001b[0m\u001b[0;34m,\u001b[0m\u001b[0;34m\u001b[0m\u001b[0;34m\u001b[0m\u001b[0m\n\u001b[0m\u001b[1;32m   1114\u001b[0m     )\n",
            "\u001b[0;32m/usr/local/lib/python3.7/dist-packages/pandas/io/html.py\u001b[0m in \u001b[0;36m_parse\u001b[0;34m(flavor, io, match, attrs, encoding, displayed_only, **kwargs)\u001b[0m\n\u001b[1;32m    924\u001b[0m     \u001b[0;32melse\u001b[0m\u001b[0;34m:\u001b[0m\u001b[0;34m\u001b[0m\u001b[0;34m\u001b[0m\u001b[0m\n\u001b[1;32m    925\u001b[0m         \u001b[0;32massert\u001b[0m \u001b[0mretained\u001b[0m \u001b[0;32mis\u001b[0m \u001b[0;32mnot\u001b[0m \u001b[0;32mNone\u001b[0m  \u001b[0;31m# for mypy\u001b[0m\u001b[0;34m\u001b[0m\u001b[0;34m\u001b[0m\u001b[0m\n\u001b[0;32m--> 926\u001b[0;31m         \u001b[0;32mraise\u001b[0m \u001b[0mretained\u001b[0m\u001b[0;34m\u001b[0m\u001b[0;34m\u001b[0m\u001b[0m\n\u001b[0m\u001b[1;32m    927\u001b[0m \u001b[0;34m\u001b[0m\u001b[0m\n\u001b[1;32m    928\u001b[0m     \u001b[0mret\u001b[0m \u001b[0;34m=\u001b[0m \u001b[0;34m[\u001b[0m\u001b[0;34m]\u001b[0m\u001b[0;34m\u001b[0m\u001b[0;34m\u001b[0m\u001b[0m\n",
            "\u001b[0;32m/usr/local/lib/python3.7/dist-packages/pandas/io/html.py\u001b[0m in \u001b[0;36m_parse\u001b[0;34m(flavor, io, match, attrs, encoding, displayed_only, **kwargs)\u001b[0m\n\u001b[1;32m    904\u001b[0m \u001b[0;34m\u001b[0m\u001b[0m\n\u001b[1;32m    905\u001b[0m         \u001b[0;32mtry\u001b[0m\u001b[0;34m:\u001b[0m\u001b[0;34m\u001b[0m\u001b[0;34m\u001b[0m\u001b[0m\n\u001b[0;32m--> 906\u001b[0;31m             \u001b[0mtables\u001b[0m \u001b[0;34m=\u001b[0m \u001b[0mp\u001b[0m\u001b[0;34m.\u001b[0m\u001b[0mparse_tables\u001b[0m\u001b[0;34m(\u001b[0m\u001b[0;34m)\u001b[0m\u001b[0;34m\u001b[0m\u001b[0;34m\u001b[0m\u001b[0m\n\u001b[0m\u001b[1;32m    907\u001b[0m         \u001b[0;32mexcept\u001b[0m \u001b[0mValueError\u001b[0m \u001b[0;32mas\u001b[0m \u001b[0mcaught\u001b[0m\u001b[0;34m:\u001b[0m\u001b[0;34m\u001b[0m\u001b[0;34m\u001b[0m\u001b[0m\n\u001b[1;32m    908\u001b[0m             \u001b[0;31m# if `io` is an io-like object, check if it's seekable\u001b[0m\u001b[0;34m\u001b[0m\u001b[0;34m\u001b[0m\u001b[0;34m\u001b[0m\u001b[0m\n",
            "\u001b[0;32m/usr/local/lib/python3.7/dist-packages/pandas/io/html.py\u001b[0m in \u001b[0;36mparse_tables\u001b[0;34m(self)\u001b[0m\n\u001b[1;32m    220\u001b[0m         \u001b[0mlist\u001b[0m \u001b[0mof\u001b[0m \u001b[0mparsed\u001b[0m \u001b[0;34m(\u001b[0m\u001b[0mheader\u001b[0m\u001b[0;34m,\u001b[0m \u001b[0mbody\u001b[0m\u001b[0;34m,\u001b[0m \u001b[0mfooter\u001b[0m\u001b[0;34m)\u001b[0m \u001b[0mtuples\u001b[0m \u001b[0;32mfrom\u001b[0m \u001b[0mtables\u001b[0m\u001b[0;34m.\u001b[0m\u001b[0;34m\u001b[0m\u001b[0;34m\u001b[0m\u001b[0m\n\u001b[1;32m    221\u001b[0m         \"\"\"\n\u001b[0;32m--> 222\u001b[0;31m         \u001b[0mtables\u001b[0m \u001b[0;34m=\u001b[0m \u001b[0mself\u001b[0m\u001b[0;34m.\u001b[0m\u001b[0m_parse_tables\u001b[0m\u001b[0;34m(\u001b[0m\u001b[0mself\u001b[0m\u001b[0;34m.\u001b[0m\u001b[0m_build_doc\u001b[0m\u001b[0;34m(\u001b[0m\u001b[0;34m)\u001b[0m\u001b[0;34m,\u001b[0m \u001b[0mself\u001b[0m\u001b[0;34m.\u001b[0m\u001b[0mmatch\u001b[0m\u001b[0;34m,\u001b[0m \u001b[0mself\u001b[0m\u001b[0;34m.\u001b[0m\u001b[0mattrs\u001b[0m\u001b[0;34m)\u001b[0m\u001b[0;34m\u001b[0m\u001b[0;34m\u001b[0m\u001b[0m\n\u001b[0m\u001b[1;32m    223\u001b[0m         \u001b[0;32mreturn\u001b[0m \u001b[0;34m(\u001b[0m\u001b[0mself\u001b[0m\u001b[0;34m.\u001b[0m\u001b[0m_parse_thead_tbody_tfoot\u001b[0m\u001b[0;34m(\u001b[0m\u001b[0mtable\u001b[0m\u001b[0;34m)\u001b[0m \u001b[0;32mfor\u001b[0m \u001b[0mtable\u001b[0m \u001b[0;32min\u001b[0m \u001b[0mtables\u001b[0m\u001b[0;34m)\u001b[0m\u001b[0;34m\u001b[0m\u001b[0;34m\u001b[0m\u001b[0m\n\u001b[1;32m    224\u001b[0m \u001b[0;34m\u001b[0m\u001b[0m\n",
            "\u001b[0;32m/usr/local/lib/python3.7/dist-packages/pandas/io/html.py\u001b[0m in \u001b[0;36m_parse_tables\u001b[0;34m(self, doc, match, attrs)\u001b[0m\n\u001b[1;32m    550\u001b[0m \u001b[0;34m\u001b[0m\u001b[0m\n\u001b[1;32m    551\u001b[0m         \u001b[0;32mif\u001b[0m \u001b[0;32mnot\u001b[0m \u001b[0mtables\u001b[0m\u001b[0;34m:\u001b[0m\u001b[0;34m\u001b[0m\u001b[0;34m\u001b[0m\u001b[0m\n\u001b[0;32m--> 552\u001b[0;31m             \u001b[0;32mraise\u001b[0m \u001b[0mValueError\u001b[0m\u001b[0;34m(\u001b[0m\u001b[0;34m\"No tables found\"\u001b[0m\u001b[0;34m)\u001b[0m\u001b[0;34m\u001b[0m\u001b[0;34m\u001b[0m\u001b[0m\n\u001b[0m\u001b[1;32m    553\u001b[0m \u001b[0;34m\u001b[0m\u001b[0m\n\u001b[1;32m    554\u001b[0m         \u001b[0mresult\u001b[0m \u001b[0;34m=\u001b[0m \u001b[0;34m[\u001b[0m\u001b[0;34m]\u001b[0m\u001b[0;34m\u001b[0m\u001b[0;34m\u001b[0m\u001b[0m\n",
            "\u001b[0;31mValueError\u001b[0m: No tables found"
          ]
        }
      ]
    },
    {
      "cell_type": "code",
      "source": [
        "#df.head(10)                                                       #LAS PRIMERAS FILAS\n",
        "df.tail(10) "
      ],
      "metadata": {
        "colab": {
          "base_uri": "https://localhost:8080/",
          "height": 441
        },
        "id": "y9FuhXH5m2ag",
        "outputId": "fd0e8457-d0fa-47dc-fb39-61bfa8b5d3bb"
      },
      "execution_count": null,
      "outputs": [
        {
          "output_type": "execute_result",
          "data": {
            "text/plain": [
              "                                                 Fecha  \\\n",
              "91                                         08 nov 2021   \n",
              "92                                         05 nov 2021   \n",
              "93                                         04 nov 2021   \n",
              "94                                         03 nov 2021   \n",
              "95                                         02 nov 2021   \n",
              "96                                         01 nov 2021   \n",
              "97                                         29 oct 2021   \n",
              "98                                         28 oct 2021   \n",
              "99                                         27 oct 2021   \n",
              "100  *Precio de cierre ajustado para división de ac...   \n",
              "\n",
              "                                                 Abrir  \\\n",
              "91                                              161.76   \n",
              "92                                              164.79   \n",
              "93                                              169.28   \n",
              "94                                              165.36   \n",
              "95                                              167.10   \n",
              "96                                              165.84   \n",
              "97                                              167.07   \n",
              "98                                              168.49   \n",
              "99                                              167.53   \n",
              "100  *Precio de cierre ajustado para división de ac...   \n",
              "\n",
              "                                                  Alto  \\\n",
              "91                                              162.16   \n",
              "92                                              164.79   \n",
              "93                                              169.94   \n",
              "94                                              166.65   \n",
              "95                                              167.10   \n",
              "96                                              171.90   \n",
              "97                                              168.56   \n",
              "98                                              170.35   \n",
              "99                                              172.45   \n",
              "100  *Precio de cierre ajustado para división de ac...   \n",
              "\n",
              "                                                  Bajo  \\\n",
              "91                                              159.48   \n",
              "92                                              158.30   \n",
              "93                                              164.50   \n",
              "94                                              163.11   \n",
              "95                                              162.76   \n",
              "96                                              165.80   \n",
              "97                                              162.72   \n",
              "98                                              166.77   \n",
              "99                                              167.34   \n",
              "100  *Precio de cierre ajustado para división de ac...   \n",
              "\n",
              "                                               Cierre*  \\\n",
              "91                                              162.16   \n",
              "92                                              158.73   \n",
              "93                                              164.79   \n",
              "94                                              166.24   \n",
              "95                                              162.90   \n",
              "96                                              170.17   \n",
              "97                                              164.94   \n",
              "98                                              169.79   \n",
              "99                                              169.23   \n",
              "100  *Precio de cierre ajustado para división de ac...   \n",
              "\n",
              "                                     Cierre ajustado**  \\\n",
              "91                                              162.16   \n",
              "92                                              158.73   \n",
              "93                                              164.79   \n",
              "94                                              166.24   \n",
              "95                                              162.90   \n",
              "96                                              170.17   \n",
              "97                                              164.94   \n",
              "98                                              169.79   \n",
              "99                                              169.23   \n",
              "100  *Precio de cierre ajustado para división de ac...   \n",
              "\n",
              "                                               Volumen  \n",
              "91                                            16223100  \n",
              "92                                            22098200  \n",
              "93                                            16669200  \n",
              "94                                            13569700  \n",
              "95                                            19072900  \n",
              "96                                            17609500  \n",
              "97                                            17155400  \n",
              "98                                            12440100  \n",
              "99                                            11801800  \n",
              "100  *Precio de cierre ajustado para división de ac...  "
            ],
            "text/html": [
              "\n",
              "  <div id=\"df-673bcc38-81e0-4915-9693-16977bd54f69\">\n",
              "    <div class=\"colab-df-container\">\n",
              "      <div>\n",
              "<style scoped>\n",
              "    .dataframe tbody tr th:only-of-type {\n",
              "        vertical-align: middle;\n",
              "    }\n",
              "\n",
              "    .dataframe tbody tr th {\n",
              "        vertical-align: top;\n",
              "    }\n",
              "\n",
              "    .dataframe thead th {\n",
              "        text-align: right;\n",
              "    }\n",
              "</style>\n",
              "<table border=\"1\" class=\"dataframe\">\n",
              "  <thead>\n",
              "    <tr style=\"text-align: right;\">\n",
              "      <th></th>\n",
              "      <th>Fecha</th>\n",
              "      <th>Abrir</th>\n",
              "      <th>Alto</th>\n",
              "      <th>Bajo</th>\n",
              "      <th>Cierre*</th>\n",
              "      <th>Cierre ajustado**</th>\n",
              "      <th>Volumen</th>\n",
              "    </tr>\n",
              "  </thead>\n",
              "  <tbody>\n",
              "    <tr>\n",
              "      <th>91</th>\n",
              "      <td>08 nov 2021</td>\n",
              "      <td>161.76</td>\n",
              "      <td>162.16</td>\n",
              "      <td>159.48</td>\n",
              "      <td>162.16</td>\n",
              "      <td>162.16</td>\n",
              "      <td>16223100</td>\n",
              "    </tr>\n",
              "    <tr>\n",
              "      <th>92</th>\n",
              "      <td>05 nov 2021</td>\n",
              "      <td>164.79</td>\n",
              "      <td>164.79</td>\n",
              "      <td>158.30</td>\n",
              "      <td>158.73</td>\n",
              "      <td>158.73</td>\n",
              "      <td>22098200</td>\n",
              "    </tr>\n",
              "    <tr>\n",
              "      <th>93</th>\n",
              "      <td>04 nov 2021</td>\n",
              "      <td>169.28</td>\n",
              "      <td>169.94</td>\n",
              "      <td>164.50</td>\n",
              "      <td>164.79</td>\n",
              "      <td>164.79</td>\n",
              "      <td>16669200</td>\n",
              "    </tr>\n",
              "    <tr>\n",
              "      <th>94</th>\n",
              "      <td>03 nov 2021</td>\n",
              "      <td>165.36</td>\n",
              "      <td>166.65</td>\n",
              "      <td>163.11</td>\n",
              "      <td>166.24</td>\n",
              "      <td>166.24</td>\n",
              "      <td>13569700</td>\n",
              "    </tr>\n",
              "    <tr>\n",
              "      <th>95</th>\n",
              "      <td>02 nov 2021</td>\n",
              "      <td>167.10</td>\n",
              "      <td>167.10</td>\n",
              "      <td>162.76</td>\n",
              "      <td>162.90</td>\n",
              "      <td>162.90</td>\n",
              "      <td>19072900</td>\n",
              "    </tr>\n",
              "    <tr>\n",
              "      <th>96</th>\n",
              "      <td>01 nov 2021</td>\n",
              "      <td>165.84</td>\n",
              "      <td>171.90</td>\n",
              "      <td>165.80</td>\n",
              "      <td>170.17</td>\n",
              "      <td>170.17</td>\n",
              "      <td>17609500</td>\n",
              "    </tr>\n",
              "    <tr>\n",
              "      <th>97</th>\n",
              "      <td>29 oct 2021</td>\n",
              "      <td>167.07</td>\n",
              "      <td>168.56</td>\n",
              "      <td>162.72</td>\n",
              "      <td>164.94</td>\n",
              "      <td>164.94</td>\n",
              "      <td>17155400</td>\n",
              "    </tr>\n",
              "    <tr>\n",
              "      <th>98</th>\n",
              "      <td>28 oct 2021</td>\n",
              "      <td>168.49</td>\n",
              "      <td>170.35</td>\n",
              "      <td>166.77</td>\n",
              "      <td>169.79</td>\n",
              "      <td>169.79</td>\n",
              "      <td>12440100</td>\n",
              "    </tr>\n",
              "    <tr>\n",
              "      <th>99</th>\n",
              "      <td>27 oct 2021</td>\n",
              "      <td>167.53</td>\n",
              "      <td>172.45</td>\n",
              "      <td>167.34</td>\n",
              "      <td>169.23</td>\n",
              "      <td>169.23</td>\n",
              "      <td>11801800</td>\n",
              "    </tr>\n",
              "    <tr>\n",
              "      <th>100</th>\n",
              "      <td>*Precio de cierre ajustado para división de ac...</td>\n",
              "      <td>*Precio de cierre ajustado para división de ac...</td>\n",
              "      <td>*Precio de cierre ajustado para división de ac...</td>\n",
              "      <td>*Precio de cierre ajustado para división de ac...</td>\n",
              "      <td>*Precio de cierre ajustado para división de ac...</td>\n",
              "      <td>*Precio de cierre ajustado para división de ac...</td>\n",
              "      <td>*Precio de cierre ajustado para división de ac...</td>\n",
              "    </tr>\n",
              "  </tbody>\n",
              "</table>\n",
              "</div>\n",
              "      <button class=\"colab-df-convert\" onclick=\"convertToInteractive('df-673bcc38-81e0-4915-9693-16977bd54f69')\"\n",
              "              title=\"Convert this dataframe to an interactive table.\"\n",
              "              style=\"display:none;\">\n",
              "        \n",
              "  <svg xmlns=\"http://www.w3.org/2000/svg\" height=\"24px\"viewBox=\"0 0 24 24\"\n",
              "       width=\"24px\">\n",
              "    <path d=\"M0 0h24v24H0V0z\" fill=\"none\"/>\n",
              "    <path d=\"M18.56 5.44l.94 2.06.94-2.06 2.06-.94-2.06-.94-.94-2.06-.94 2.06-2.06.94zm-11 1L8.5 8.5l.94-2.06 2.06-.94-2.06-.94L8.5 2.5l-.94 2.06-2.06.94zm10 10l.94 2.06.94-2.06 2.06-.94-2.06-.94-.94-2.06-.94 2.06-2.06.94z\"/><path d=\"M17.41 7.96l-1.37-1.37c-.4-.4-.92-.59-1.43-.59-.52 0-1.04.2-1.43.59L10.3 9.45l-7.72 7.72c-.78.78-.78 2.05 0 2.83L4 21.41c.39.39.9.59 1.41.59.51 0 1.02-.2 1.41-.59l7.78-7.78 2.81-2.81c.8-.78.8-2.07 0-2.86zM5.41 20L4 18.59l7.72-7.72 1.47 1.35L5.41 20z\"/>\n",
              "  </svg>\n",
              "      </button>\n",
              "      \n",
              "  <style>\n",
              "    .colab-df-container {\n",
              "      display:flex;\n",
              "      flex-wrap:wrap;\n",
              "      gap: 12px;\n",
              "    }\n",
              "\n",
              "    .colab-df-convert {\n",
              "      background-color: #E8F0FE;\n",
              "      border: none;\n",
              "      border-radius: 50%;\n",
              "      cursor: pointer;\n",
              "      display: none;\n",
              "      fill: #1967D2;\n",
              "      height: 32px;\n",
              "      padding: 0 0 0 0;\n",
              "      width: 32px;\n",
              "    }\n",
              "\n",
              "    .colab-df-convert:hover {\n",
              "      background-color: #E2EBFA;\n",
              "      box-shadow: 0px 1px 2px rgba(60, 64, 67, 0.3), 0px 1px 3px 1px rgba(60, 64, 67, 0.15);\n",
              "      fill: #174EA6;\n",
              "    }\n",
              "\n",
              "    [theme=dark] .colab-df-convert {\n",
              "      background-color: #3B4455;\n",
              "      fill: #D2E3FC;\n",
              "    }\n",
              "\n",
              "    [theme=dark] .colab-df-convert:hover {\n",
              "      background-color: #434B5C;\n",
              "      box-shadow: 0px 1px 3px 1px rgba(0, 0, 0, 0.15);\n",
              "      filter: drop-shadow(0px 1px 2px rgba(0, 0, 0, 0.3));\n",
              "      fill: #FFFFFF;\n",
              "    }\n",
              "  </style>\n",
              "\n",
              "      <script>\n",
              "        const buttonEl =\n",
              "          document.querySelector('#df-673bcc38-81e0-4915-9693-16977bd54f69 button.colab-df-convert');\n",
              "        buttonEl.style.display =\n",
              "          google.colab.kernel.accessAllowed ? 'block' : 'none';\n",
              "\n",
              "        async function convertToInteractive(key) {\n",
              "          const element = document.querySelector('#df-673bcc38-81e0-4915-9693-16977bd54f69');\n",
              "          const dataTable =\n",
              "            await google.colab.kernel.invokeFunction('convertToInteractive',\n",
              "                                                     [key], {});\n",
              "          if (!dataTable) return;\n",
              "\n",
              "          const docLinkHtml = 'Like what you see? Visit the ' +\n",
              "            '<a target=\"_blank\" href=https://colab.research.google.com/notebooks/data_table.ipynb>data table notebook</a>'\n",
              "            + ' to learn more about interactive tables.';\n",
              "          element.innerHTML = '';\n",
              "          dataTable['output_type'] = 'display_data';\n",
              "          await google.colab.output.renderOutput(dataTable, element);\n",
              "          const docLink = document.createElement('div');\n",
              "          docLink.innerHTML = docLinkHtml;\n",
              "          element.appendChild(docLink);\n",
              "        }\n",
              "      </script>\n",
              "    </div>\n",
              "  </div>\n",
              "  "
            ]
          },
          "metadata": {},
          "execution_count": 13
        }
      ]
    },
    {
      "cell_type": "code",
      "source": [
        "#tenemosque borrar la ultima fila\n",
        "df = df[:-1]"
      ],
      "metadata": {
        "id": "y-lXtUSEm6U2"
      },
      "execution_count": null,
      "outputs": []
    },
    {
      "cell_type": "markdown",
      "source": [
        "#Conociendo los datos descargados"
      ],
      "metadata": {
        "id": "fgg9fKlBm8rK"
      }
    },
    {
      "cell_type": "code",
      "source": [
        "print(df.info())\n",
        "print(\"____________describe____________\\n\",df.describe())\n",
        "print(\"____________nulos?____________\\n\",df.isnull().sum())\n",
        "#print(\"Rows, Cols->\",df.shape)"
      ],
      "metadata": {
        "colab": {
          "base_uri": "https://localhost:8080/"
        },
        "id": "O231go2um-TC",
        "outputId": "3a1ffc69-0ff8-4f1f-d729-b688472ed761"
      },
      "execution_count": null,
      "outputs": [
        {
          "output_type": "stream",
          "name": "stdout",
          "text": [
            "<class 'pandas.core.frame.DataFrame'>\n",
            "RangeIndex: 100 entries, 0 to 99\n",
            "Data columns (total 7 columns):\n",
            " #   Column             Non-Null Count  Dtype \n",
            "---  ------             --------------  ----- \n",
            " 0   Fecha              100 non-null    object\n",
            " 1   Abrir              100 non-null    object\n",
            " 2   Alto               100 non-null    object\n",
            " 3   Bajo               100 non-null    object\n",
            " 4   Cierre*            100 non-null    object\n",
            " 5   Cierre ajustado**  100 non-null    object\n",
            " 6   Volumen            100 non-null    object\n",
            "dtypes: object(7)\n",
            "memory usage: 5.6+ KB\n",
            "None\n",
            "____________describe____________\n",
            "               Fecha   Abrir    Alto   Bajo Cierre* Cierre ajustado**   Volumen\n",
            "count           100     100     100    100     100               100       100\n",
            "unique           99      97      98     96      99                99       100\n",
            "top     18 mar 2022  100.50  111.74  99.60  108.30            108.30  83215498\n",
            "freq              2       2       2      2       2                 2         1\n",
            "____________nulos?____________\n",
            " Fecha                0\n",
            "Abrir                0\n",
            "Alto                 0\n",
            "Bajo                 0\n",
            "Cierre*              0\n",
            "Cierre ajustado**    0\n",
            "Volumen              0\n",
            "dtype: int64\n"
          ]
        }
      ]
    },
    {
      "cell_type": "markdown",
      "source": [
        "#Normalización de los datos.\n",
        "\n",
        "#Convertimos los campos object a datetime o numeric (int/float)"
      ],
      "metadata": {
        "id": "JzINljmhnCTl"
      }
    },
    {
      "cell_type": "code",
      "source": [
        "df['Fecha']= df['Fecha'].str.replace(' ene ','/01/')\n",
        "df['Fecha']= df['Fecha'].str.replace(' feb ','/02/')\n",
        "df['Fecha']= df['Fecha'].str.replace(' mar ','/03/')\n",
        "df['Fecha']= df['Fecha'].str.replace(' abr ','/04/')\n",
        "df['Fecha']= df['Fecha'].str.replace(' may ','/05/')\n",
        "df['Fecha']= df['Fecha'].str.replace(' jun ','/06/')\n",
        "df['Fecha']= df['Fecha'].str.replace(' jul ','/07/')\n",
        "df['Fecha']= df['Fecha'].str.replace(' ago ','/08/')\n",
        "df['Fecha']= df['Fecha'].str.replace(' sep ','/09/')\n",
        "df['Fecha']= df['Fecha'].str.replace(' oct ','/10/')\n",
        "df['Fecha']= df['Fecha'].str.replace(' nov ','/11/')\n",
        "df['Fecha']= df['Fecha'].str.replace(' dic ','/12/')"
      ],
      "metadata": {
        "id": "q4qxyZMYnGlG"
      },
      "execution_count": null,
      "outputs": []
    },
    {
      "cell_type": "code",
      "source": [
        "df['Fecha']=pd.to_datetime(df['Fecha'], dayfirst = True)        # Convertimos el campo FECHA en tipo DATETIME\n",
        "df['Abrir'] = pd.to_numeric(df['Abrir'])                        #  convertimos el campo a numerico \n",
        "df['Alto'] = pd.to_numeric(df['Alto'])\n",
        "df['Bajo'] = pd.to_numeric(df['Bajo'])\n",
        "df['Cierre*'] = pd.to_numeric(df['Cierre*'])\n",
        "df['Cierre ajustado**'] = pd.to_numeric(df['Cierre ajustado**'])\n",
        "df['Volumen'] = pd.to_numeric(df['Volumen'])"
      ],
      "metadata": {
        "id": "qjz0ryU3nNc_"
      },
      "execution_count": null,
      "outputs": []
    },
    {
      "cell_type": "markdown",
      "source": [
        "#Eliminando columnas que no necesitaremos "
      ],
      "metadata": {
        "id": "neluN5fyn7k3"
      }
    },
    {
      "cell_type": "code",
      "source": [
        "#borrar nulos o no?\n",
        "df = df.dropna()\n",
        "df = df.reset_index(drop=True)"
      ],
      "metadata": {
        "id": "wwVXEgwbn80h"
      },
      "execution_count": null,
      "outputs": []
    },
    {
      "cell_type": "code",
      "source": [
        "# Eliminamos columna de fecha que no usaremos en el algoritmo.\n",
        "dates = df['Fecha'] # Guardamos la columna Date.\n",
        "df = df.drop('Fecha', 1) # Borramos la columna del dataframe."
      ],
      "metadata": {
        "colab": {
          "base_uri": "https://localhost:8080/"
        },
        "id": "E3-6XbWJoAds",
        "outputId": "1e7fdfd3-256e-4bb9-aff1-0db89db0130b"
      },
      "execution_count": null,
      "outputs": [
        {
          "output_type": "stream",
          "name": "stderr",
          "text": [
            "/usr/local/lib/python3.7/dist-packages/ipykernel_launcher.py:3: FutureWarning: In a future version of pandas all arguments of DataFrame.drop except for the argument 'labels' will be keyword-only\n",
            "  This is separate from the ipykernel package so we can avoid doing imports until\n"
          ]
        }
      ]
    },
    {
      "cell_type": "markdown",
      "source": [
        "Normaliza todos los datos entre [0, 1]."
      ],
      "metadata": {
        "id": "C0YIxiJNoF7t"
      }
    },
    {
      "cell_type": "code",
      "source": [
        "#%% Se normalizan los datos con MinMax()\n",
        "min_max_scaler = preprocessing.MinMaxScaler() \n",
        "df_escalado = min_max_scaler.fit_transform(df)\n",
        "df_escalado = pd.DataFrame(df_escalado) # Hay que convertir a DF el resultado.\n",
        "df_escalado = df_escalado.rename(columns = {0:'Abrir',1:'Alto',2:'Bajo',3:'Cierre*',4: 'Cierre ajustado**', 5: 'Volumen'})"
      ],
      "metadata": {
        "id": "FYgcK21OoKNx"
      },
      "execution_count": null,
      "outputs": []
    },
    {
      "cell_type": "code",
      "source": [
        "df_escalado.head()\n",
        "#df_escalado.isnull().sum()"
      ],
      "metadata": {
        "colab": {
          "base_uri": "https://localhost:8080/",
          "height": 206
        },
        "id": "Bwr6HztmoPXq",
        "outputId": "ad055d3a-80e6-460c-84a4-8a063726f6af"
      },
      "execution_count": null,
      "outputs": [
        {
          "output_type": "execute_result",
          "data": {
            "text/plain": [
              "      Abrir      Alto      Bajo   Cierre*  Cierre ajustado**   Volumen\n",
              "0  0.269696  0.342325  0.279821  0.337651           0.337651  0.489815\n",
              "1  0.269696  0.342325  0.279821  0.337651           0.337651  0.493147\n",
              "2  0.255256  0.235619  0.239103  0.252757           0.252757  0.472820\n",
              "3  0.179444  0.277326  0.147140  0.302109           0.302109  1.000000\n",
              "4  0.000000  0.000000  0.000000  0.000000           0.000000  0.509750"
            ],
            "text/html": [
              "\n",
              "  <div id=\"df-853ec913-13c1-4592-b77a-ba96b9d41627\">\n",
              "    <div class=\"colab-df-container\">\n",
              "      <div>\n",
              "<style scoped>\n",
              "    .dataframe tbody tr th:only-of-type {\n",
              "        vertical-align: middle;\n",
              "    }\n",
              "\n",
              "    .dataframe tbody tr th {\n",
              "        vertical-align: top;\n",
              "    }\n",
              "\n",
              "    .dataframe thead th {\n",
              "        text-align: right;\n",
              "    }\n",
              "</style>\n",
              "<table border=\"1\" class=\"dataframe\">\n",
              "  <thead>\n",
              "    <tr style=\"text-align: right;\">\n",
              "      <th></th>\n",
              "      <th>Abrir</th>\n",
              "      <th>Alto</th>\n",
              "      <th>Bajo</th>\n",
              "      <th>Cierre*</th>\n",
              "      <th>Cierre ajustado**</th>\n",
              "      <th>Volumen</th>\n",
              "    </tr>\n",
              "  </thead>\n",
              "  <tbody>\n",
              "    <tr>\n",
              "      <th>0</th>\n",
              "      <td>0.269696</td>\n",
              "      <td>0.342325</td>\n",
              "      <td>0.279821</td>\n",
              "      <td>0.337651</td>\n",
              "      <td>0.337651</td>\n",
              "      <td>0.489815</td>\n",
              "    </tr>\n",
              "    <tr>\n",
              "      <th>1</th>\n",
              "      <td>0.269696</td>\n",
              "      <td>0.342325</td>\n",
              "      <td>0.279821</td>\n",
              "      <td>0.337651</td>\n",
              "      <td>0.337651</td>\n",
              "      <td>0.493147</td>\n",
              "    </tr>\n",
              "    <tr>\n",
              "      <th>2</th>\n",
              "      <td>0.255256</td>\n",
              "      <td>0.235619</td>\n",
              "      <td>0.239103</td>\n",
              "      <td>0.252757</td>\n",
              "      <td>0.252757</td>\n",
              "      <td>0.472820</td>\n",
              "    </tr>\n",
              "    <tr>\n",
              "      <th>3</th>\n",
              "      <td>0.179444</td>\n",
              "      <td>0.277326</td>\n",
              "      <td>0.147140</td>\n",
              "      <td>0.302109</td>\n",
              "      <td>0.302109</td>\n",
              "      <td>1.000000</td>\n",
              "    </tr>\n",
              "    <tr>\n",
              "      <th>4</th>\n",
              "      <td>0.000000</td>\n",
              "      <td>0.000000</td>\n",
              "      <td>0.000000</td>\n",
              "      <td>0.000000</td>\n",
              "      <td>0.000000</td>\n",
              "      <td>0.509750</td>\n",
              "    </tr>\n",
              "  </tbody>\n",
              "</table>\n",
              "</div>\n",
              "      <button class=\"colab-df-convert\" onclick=\"convertToInteractive('df-853ec913-13c1-4592-b77a-ba96b9d41627')\"\n",
              "              title=\"Convert this dataframe to an interactive table.\"\n",
              "              style=\"display:none;\">\n",
              "        \n",
              "  <svg xmlns=\"http://www.w3.org/2000/svg\" height=\"24px\"viewBox=\"0 0 24 24\"\n",
              "       width=\"24px\">\n",
              "    <path d=\"M0 0h24v24H0V0z\" fill=\"none\"/>\n",
              "    <path d=\"M18.56 5.44l.94 2.06.94-2.06 2.06-.94-2.06-.94-.94-2.06-.94 2.06-2.06.94zm-11 1L8.5 8.5l.94-2.06 2.06-.94-2.06-.94L8.5 2.5l-.94 2.06-2.06.94zm10 10l.94 2.06.94-2.06 2.06-.94-2.06-.94-.94-2.06-.94 2.06-2.06.94z\"/><path d=\"M17.41 7.96l-1.37-1.37c-.4-.4-.92-.59-1.43-.59-.52 0-1.04.2-1.43.59L10.3 9.45l-7.72 7.72c-.78.78-.78 2.05 0 2.83L4 21.41c.39.39.9.59 1.41.59.51 0 1.02-.2 1.41-.59l7.78-7.78 2.81-2.81c.8-.78.8-2.07 0-2.86zM5.41 20L4 18.59l7.72-7.72 1.47 1.35L5.41 20z\"/>\n",
              "  </svg>\n",
              "      </button>\n",
              "      \n",
              "  <style>\n",
              "    .colab-df-container {\n",
              "      display:flex;\n",
              "      flex-wrap:wrap;\n",
              "      gap: 12px;\n",
              "    }\n",
              "\n",
              "    .colab-df-convert {\n",
              "      background-color: #E8F0FE;\n",
              "      border: none;\n",
              "      border-radius: 50%;\n",
              "      cursor: pointer;\n",
              "      display: none;\n",
              "      fill: #1967D2;\n",
              "      height: 32px;\n",
              "      padding: 0 0 0 0;\n",
              "      width: 32px;\n",
              "    }\n",
              "\n",
              "    .colab-df-convert:hover {\n",
              "      background-color: #E2EBFA;\n",
              "      box-shadow: 0px 1px 2px rgba(60, 64, 67, 0.3), 0px 1px 3px 1px rgba(60, 64, 67, 0.15);\n",
              "      fill: #174EA6;\n",
              "    }\n",
              "\n",
              "    [theme=dark] .colab-df-convert {\n",
              "      background-color: #3B4455;\n",
              "      fill: #D2E3FC;\n",
              "    }\n",
              "\n",
              "    [theme=dark] .colab-df-convert:hover {\n",
              "      background-color: #434B5C;\n",
              "      box-shadow: 0px 1px 3px 1px rgba(0, 0, 0, 0.15);\n",
              "      filter: drop-shadow(0px 1px 2px rgba(0, 0, 0, 0.3));\n",
              "      fill: #FFFFFF;\n",
              "    }\n",
              "  </style>\n",
              "\n",
              "      <script>\n",
              "        const buttonEl =\n",
              "          document.querySelector('#df-853ec913-13c1-4592-b77a-ba96b9d41627 button.colab-df-convert');\n",
              "        buttonEl.style.display =\n",
              "          google.colab.kernel.accessAllowed ? 'block' : 'none';\n",
              "\n",
              "        async function convertToInteractive(key) {\n",
              "          const element = document.querySelector('#df-853ec913-13c1-4592-b77a-ba96b9d41627');\n",
              "          const dataTable =\n",
              "            await google.colab.kernel.invokeFunction('convertToInteractive',\n",
              "                                                     [key], {});\n",
              "          if (!dataTable) return;\n",
              "\n",
              "          const docLinkHtml = 'Like what you see? Visit the ' +\n",
              "            '<a target=\"_blank\" href=https://colab.research.google.com/notebooks/data_table.ipynb>data table notebook</a>'\n",
              "            + ' to learn more about interactive tables.';\n",
              "          element.innerHTML = '';\n",
              "          dataTable['output_type'] = 'display_data';\n",
              "          await google.colab.output.renderOutput(dataTable, element);\n",
              "          const docLink = document.createElement('div');\n",
              "          docLink.innerHTML = docLinkHtml;\n",
              "          element.appendChild(docLink);\n",
              "        }\n",
              "      </script>\n",
              "    </div>\n",
              "  </div>\n",
              "  "
            ]
          },
          "metadata": {},
          "execution_count": 21
        }
      ]
    },
    {
      "cell_type": "markdown",
      "source": [
        "#Representación gráfica de los datos."
      ],
      "metadata": {
        "id": "_eVZ7u2GoWTf"
      }
    },
    {
      "cell_type": "code",
      "source": [
        "#%% Representación gráfica de los datos.\n",
        "x = df_escalado['Cierre*'].values\n",
        "y = df_escalado['Volumen'].values\n",
        "plt.xlabel('Cierre de precios')\n",
        "plt.ylabel('Volumen')\n",
        "plt.title('Alibaba CIERRE vs. VOLUMEN')\n",
        "plt.plot(x,y,'o',markersize=3)"
      ],
      "metadata": {
        "colab": {
          "base_uri": "https://localhost:8080/",
          "height": 317
        },
        "id": "MKceKPj-oZfv",
        "outputId": "2a011c2d-a33d-4554-ea69-c5f4104cb2fe"
      },
      "execution_count": null,
      "outputs": [
        {
          "output_type": "execute_result",
          "data": {
            "text/plain": [
              "[<matplotlib.lines.Line2D at 0x7fbaee8b6050>]"
            ]
          },
          "metadata": {},
          "execution_count": 24
        },
        {
          "output_type": "display_data",
          "data": {
            "text/plain": [
              "<Figure size 432x288 with 1 Axes>"
            ],
            "image/png": "[encoded data removed]"
          },
          "metadata": {
            "needs_background": "light"
          }
        }
      ]
    },
    {
      "cell_type": "markdown",
      "source": [
        "#Aplicación de k-means."
      ],
      "metadata": {
        "id": "aj0rfHRDojMd"
      }
    },
    {
      "cell_type": "markdown",
      "source": [
        "#Realizar una gráfica elbow o de codo"
      ],
      "metadata": {
        "id": "jPJS37v1oqXo"
      }
    },
    {
      "cell_type": "code",
      "source": [
        "#%% Curva elbow para determinar valor óptimo de k.\n",
        "nc = range(1, 30) # El número de iteraciones que queremos hacer.\n",
        "kmeans = [KMeans(n_clusters=i) for i in nc]\n",
        "score = [kmeans[i].fit(df_escalado).score(df_escalado) for i in range(len(kmeans))]\n",
        "score\n",
        "plt.xlabel('Número de clústeres (k)')\n",
        "plt.ylabel('Suma de los errores cuadráticos')\n",
        "plt.plot(nc,score)"
      ],
      "metadata": {
        "colab": {
          "base_uri": "https://localhost:8080/",
          "height": 299
        },
        "id": "18_6MJJcosrW",
        "outputId": "5fad7a86-bff2-4396-c3f4-85a23ca0a027"
      },
      "execution_count": null,
      "outputs": [
        {
          "output_type": "execute_result",
          "data": {
            "text/plain": [
              "[<matplotlib.lines.Line2D at 0x7fbaee883c50>]"
            ]
          },
          "metadata": {},
          "execution_count": 25
        },
        {
          "output_type": "display_data",
          "data": {
            "text/plain": [
              "<Figure size 432x288 with 1 Axes>"
            ],
            "image/png": "[encoded data removed]"
          },
          "metadata": {
            "needs_background": "light"
          }
        }
      ]
    },
    {
      "cell_type": "markdown",
      "source": [
        "#Aplicar el algoritmo de k-mean"
      ],
      "metadata": {
        "id": "qXHuTw58o4qv"
      }
    },
    {
      "cell_type": "code",
      "source": [
        "#%% Aplicación de k-means con k = 5.\n",
        "kmeans = KMeans(n_clusters=5).fit(df_escalado)\n",
        "centroids = kmeans.cluster_centers_\n",
        "print(centroids)   #coordenadas de los centroides"
      ],
      "metadata": {
        "colab": {
          "base_uri": "https://localhost:8080/"
        },
        "id": "ufSVgSx_o7Jd",
        "outputId": "c5d90167-981c-4141-cb98-742512f7ab9d"
      },
      "execution_count": null,
      "outputs": [
        {
          "output_type": "stream",
          "name": "stdout",
          "text": [
            "[[0.62479059 0.6042923  0.61113474 0.59778872 0.59778872 0.11497399]\n",
            " [0.1722588  0.20376991 0.16438089 0.20681226 0.20681226 0.56121678]\n",
            " [0.9669184  0.95246317 0.95888927 0.94754309 0.94754309 0.03921897]\n",
            " [0.47994974 0.46528229 0.47227169 0.46940237 0.46940237 0.08935175]\n",
            " [0.28303957 0.25986711 0.27268056 0.26123185 0.26123185 0.10764222]]\n"
          ]
        }
      ]
    },
    {
      "cell_type": "markdown",
      "source": [
        "#Etiquetado de datos."
      ],
      "metadata": {
        "id": "yrYEkdyUo-AD"
      }
    },
    {
      "cell_type": "code",
      "source": [
        "#%% Etiquetamos nuestro dataframe.\n",
        "labels = kmeans.predict(df_escalado)   #generamos las etiquetas de cada clouster\n",
        "df['label'] = labels                   #añadimos la columna “label” a nuestro dataframe original\n",
        "\n",
        "df.insert(0, 'Date', dates)           #%% Añadimos la columna de fecha"
      ],
      "metadata": {
        "id": "UZCVpafso_Xf"
      },
      "execution_count": null,
      "outputs": []
    },
    {
      "cell_type": "code",
      "source": [
        "df.head(10)"
      ],
      "metadata": {
        "colab": {
          "base_uri": "https://localhost:8080/",
          "height": 363
        },
        "id": "STD2yltupCbQ",
        "outputId": "755ec597-b16c-4729-ed56-6b9bb703fcc7"
      },
      "execution_count": null,
      "outputs": [
        {
          "output_type": "execute_result",
          "data": {
            "text/plain": [
              "        Date   Abrir    Alto   Bajo  Cierre*  Cierre ajustado**    Volumen  \\\n",
              "0 2022-03-18  100.50  111.74  99.60   108.30             108.30   83215498   \n",
              "1 2022-03-18  100.50  111.74  99.60   108.30             108.30   83715800   \n",
              "2 2022-03-17   99.14  101.89  95.77   100.37             100.37   80663200   \n",
              "3 2022-03-16   92.00  105.74  87.12   104.98             104.98  159834300   \n",
              "4 2022-03-15   75.10   80.14  73.28    76.76              76.76   86209300   \n",
              "5 2022-03-14   80.70   82.45  77.08    77.76              77.76   69992600   \n",
              "6 2022-03-11   93.26   93.95  86.68    86.71              86.71   39277900   \n",
              "7 2022-03-10   95.19   95.70  90.82    92.92              92.92   37671200   \n",
              "8 2022-03-09  100.26  100.97  98.32   100.93             100.93   20853600   \n",
              "9 2022-03-08   99.32  100.91  95.57    97.50              97.50   23275500   \n",
              "\n",
              "   label  \n",
              "0      1  \n",
              "1      1  \n",
              "2      1  \n",
              "3      1  \n",
              "4      1  \n",
              "5      1  \n",
              "6      4  \n",
              "7      4  \n",
              "8      4  \n",
              "9      4  "
            ],
            "text/html": [
              "\n",
              "  <div id=\"df-e2dac0ee-e113-4173-9ddf-4b379ddb21b7\">\n",
              "    <div class=\"colab-df-container\">\n",
              "      <div>\n",
              "<style scoped>\n",
              "    .dataframe tbody tr th:only-of-type {\n",
              "        vertical-align: middle;\n",
              "    }\n",
              "\n",
              "    .dataframe tbody tr th {\n",
              "        vertical-align: top;\n",
              "    }\n",
              "\n",
              "    .dataframe thead th {\n",
              "        text-align: right;\n",
              "    }\n",
              "</style>\n",
              "<table border=\"1\" class=\"dataframe\">\n",
              "  <thead>\n",
              "    <tr style=\"text-align: right;\">\n",
              "      <th></th>\n",
              "      <th>Date</th>\n",
              "      <th>Abrir</th>\n",
              "      <th>Alto</th>\n",
              "      <th>Bajo</th>\n",
              "      <th>Cierre*</th>\n",
              "      <th>Cierre ajustado**</th>\n",
              "      <th>Volumen</th>\n",
              "      <th>label</th>\n",
              "    </tr>\n",
              "  </thead>\n",
              "  <tbody>\n",
              "    <tr>\n",
              "      <th>0</th>\n",
              "      <td>2022-03-18</td>\n",
              "      <td>100.50</td>\n",
              "      <td>111.74</td>\n",
              "      <td>99.60</td>\n",
              "      <td>108.30</td>\n",
              "      <td>108.30</td>\n",
              "      <td>83215498</td>\n",
              "      <td>1</td>\n",
              "    </tr>\n",
              "    <tr>\n",
              "      <th>1</th>\n",
              "      <td>2022-03-18</td>\n",
              "      <td>100.50</td>\n",
              "      <td>111.74</td>\n",
              "      <td>99.60</td>\n",
              "      <td>108.30</td>\n",
              "      <td>108.30</td>\n",
              "      <td>83715800</td>\n",
              "      <td>1</td>\n",
              "    </tr>\n",
              "    <tr>\n",
              "      <th>2</th>\n",
              "      <td>2022-03-17</td>\n",
              "      <td>99.14</td>\n",
              "      <td>101.89</td>\n",
              "      <td>95.77</td>\n",
              "      <td>100.37</td>\n",
              "      <td>100.37</td>\n",
              "      <td>80663200</td>\n",
              "      <td>1</td>\n",
              "    </tr>\n",
              "    <tr>\n",
              "      <th>3</th>\n",
              "      <td>2022-03-16</td>\n",
              "      <td>92.00</td>\n",
              "      <td>105.74</td>\n",
              "      <td>87.12</td>\n",
              "      <td>104.98</td>\n",
              "      <td>104.98</td>\n",
              "      <td>159834300</td>\n",
              "      <td>1</td>\n",
              "    </tr>\n",
              "    <tr>\n",
              "      <th>4</th>\n",
              "      <td>2022-03-15</td>\n",
              "      <td>75.10</td>\n",
              "      <td>80.14</td>\n",
              "      <td>73.28</td>\n",
              "      <td>76.76</td>\n",
              "      <td>76.76</td>\n",
              "      <td>86209300</td>\n",
              "      <td>1</td>\n",
              "    </tr>\n",
              "    <tr>\n",
              "      <th>5</th>\n",
              "      <td>2022-03-14</td>\n",
              "      <td>80.70</td>\n",
              "      <td>82.45</td>\n",
              "      <td>77.08</td>\n",
              "      <td>77.76</td>\n",
              "      <td>77.76</td>\n",
              "      <td>69992600</td>\n",
              "      <td>1</td>\n",
              "    </tr>\n",
              "    <tr>\n",
              "      <th>6</th>\n",
              "      <td>2022-03-11</td>\n",
              "      <td>93.26</td>\n",
              "      <td>93.95</td>\n",
              "      <td>86.68</td>\n",
              "      <td>86.71</td>\n",
              "      <td>86.71</td>\n",
              "      <td>39277900</td>\n",
              "      <td>4</td>\n",
              "    </tr>\n",
              "    <tr>\n",
              "      <th>7</th>\n",
              "      <td>2022-03-10</td>\n",
              "      <td>95.19</td>\n",
              "      <td>95.70</td>\n",
              "      <td>90.82</td>\n",
              "      <td>92.92</td>\n",
              "      <td>92.92</td>\n",
              "      <td>37671200</td>\n",
              "      <td>4</td>\n",
              "    </tr>\n",
              "    <tr>\n",
              "      <th>8</th>\n",
              "      <td>2022-03-09</td>\n",
              "      <td>100.26</td>\n",
              "      <td>100.97</td>\n",
              "      <td>98.32</td>\n",
              "      <td>100.93</td>\n",
              "      <td>100.93</td>\n",
              "      <td>20853600</td>\n",
              "      <td>4</td>\n",
              "    </tr>\n",
              "    <tr>\n",
              "      <th>9</th>\n",
              "      <td>2022-03-08</td>\n",
              "      <td>99.32</td>\n",
              "      <td>100.91</td>\n",
              "      <td>95.57</td>\n",
              "      <td>97.50</td>\n",
              "      <td>97.50</td>\n",
              "      <td>23275500</td>\n",
              "      <td>4</td>\n",
              "    </tr>\n",
              "  </tbody>\n",
              "</table>\n",
              "</div>\n",
              "      <button class=\"colab-df-convert\" onclick=\"convertToInteractive('df-e2dac0ee-e113-4173-9ddf-4b379ddb21b7')\"\n",
              "              title=\"Convert this dataframe to an interactive table.\"\n",
              "              style=\"display:none;\">\n",
              "        \n",
              "  <svg xmlns=\"http://www.w3.org/2000/svg\" height=\"24px\"viewBox=\"0 0 24 24\"\n",
              "       width=\"24px\">\n",
              "    <path d=\"M0 0h24v24H0V0z\" fill=\"none\"/>\n",
              "    <path d=\"M18.56 5.44l.94 2.06.94-2.06 2.06-.94-2.06-.94-.94-2.06-.94 2.06-2.06.94zm-11 1L8.5 8.5l.94-2.06 2.06-.94-2.06-.94L8.5 2.5l-.94 2.06-2.06.94zm10 10l.94 2.06.94-2.06 2.06-.94-2.06-.94-.94-2.06-.94 2.06-2.06.94z\"/><path d=\"M17.41 7.96l-1.37-1.37c-.4-.4-.92-.59-1.43-.59-.52 0-1.04.2-1.43.59L10.3 9.45l-7.72 7.72c-.78.78-.78 2.05 0 2.83L4 21.41c.39.39.9.59 1.41.59.51 0 1.02-.2 1.41-.59l7.78-7.78 2.81-2.81c.8-.78.8-2.07 0-2.86zM5.41 20L4 18.59l7.72-7.72 1.47 1.35L5.41 20z\"/>\n",
              "  </svg>\n",
              "      </button>\n",
              "      \n",
              "  <style>\n",
              "    .colab-df-container {\n",
              "      display:flex;\n",
              "      flex-wrap:wrap;\n",
              "      gap: 12px;\n",
              "    }\n",
              "\n",
              "    .colab-df-convert {\n",
              "      background-color: #E8F0FE;\n",
              "      border: none;\n",
              "      border-radius: 50%;\n",
              "      cursor: pointer;\n",
              "      display: none;\n",
              "      fill: #1967D2;\n",
              "      height: 32px;\n",
              "      padding: 0 0 0 0;\n",
              "      width: 32px;\n",
              "    }\n",
              "\n",
              "    .colab-df-convert:hover {\n",
              "      background-color: #E2EBFA;\n",
              "      box-shadow: 0px 1px 2px rgba(60, 64, 67, 0.3), 0px 1px 3px 1px rgba(60, 64, 67, 0.15);\n",
              "      fill: #174EA6;\n",
              "    }\n",
              "\n",
              "    [theme=dark] .colab-df-convert {\n",
              "      background-color: #3B4455;\n",
              "      fill: #D2E3FC;\n",
              "    }\n",
              "\n",
              "    [theme=dark] .colab-df-convert:hover {\n",
              "      background-color: #434B5C;\n",
              "      box-shadow: 0px 1px 3px 1px rgba(0, 0, 0, 0.15);\n",
              "      filter: drop-shadow(0px 1px 2px rgba(0, 0, 0, 0.3));\n",
              "      fill: #FFFFFF;\n",
              "    }\n",
              "  </style>\n",
              "\n",
              "      <script>\n",
              "        const buttonEl =\n",
              "          document.querySelector('#df-e2dac0ee-e113-4173-9ddf-4b379ddb21b7 button.colab-df-convert');\n",
              "        buttonEl.style.display =\n",
              "          google.colab.kernel.accessAllowed ? 'block' : 'none';\n",
              "\n",
              "        async function convertToInteractive(key) {\n",
              "          const element = document.querySelector('#df-e2dac0ee-e113-4173-9ddf-4b379ddb21b7');\n",
              "          const dataTable =\n",
              "            await google.colab.kernel.invokeFunction('convertToInteractive',\n",
              "                                                     [key], {});\n",
              "          if (!dataTable) return;\n",
              "\n",
              "          const docLinkHtml = 'Like what you see? Visit the ' +\n",
              "            '<a target=\"_blank\" href=https://colab.research.google.com/notebooks/data_table.ipynb>data table notebook</a>'\n",
              "            + ' to learn more about interactive tables.';\n",
              "          element.innerHTML = '';\n",
              "          dataTable['output_type'] = 'display_data';\n",
              "          await google.colab.output.renderOutput(dataTable, element);\n",
              "          const docLink = document.createElement('div');\n",
              "          docLink.innerHTML = docLinkHtml;\n",
              "          element.appendChild(docLink);\n",
              "        }\n",
              "      </script>\n",
              "    </div>\n",
              "  </div>\n",
              "  "
            ]
          },
          "metadata": {},
          "execution_count": 28
        }
      ]
    },
    {
      "cell_type": "markdown",
      "source": [
        "#Representación gráfica de los clústeres k-means"
      ],
      "metadata": {
        "id": "mK1IUnEXpHRs"
      }
    },
    {
      "cell_type": "code",
      "source": [
        "#%% Plot k-means clustering.\n",
        "colores=['red','green','blue','yellow','fuchsia']\n",
        "asignar=[]\n",
        "for row in labels:\n",
        "     asignar.append(colores[row])\n",
        "plt.scatter(x, y, c=asignar, s=4)\n",
        "plt.scatter(centroids[:, 0], centroids[:, 1], marker='*', c='black', s=20) # Marco centroides.\n",
        "plt.xlabel('Precio de cierre')\n",
        "plt.ylabel('Volumen')\n",
        "plt.title('Alibaba stocks k-means clustering')\n",
        "plt.show()"
      ],
      "metadata": {
        "colab": {
          "base_uri": "https://localhost:8080/",
          "height": 299
        },
        "id": "lLBAwJPFpIb5",
        "outputId": "86e996f7-409c-470c-b7ed-c131b0a0386e"
      },
      "execution_count": null,
      "outputs": [
        {
          "output_type": "display_data",
          "data": {
            "text/plain": [
              "<Figure size 432x288 with 1 Axes>"
            ],
            "image/png": "[encoded data removed]"
          },
          "metadata": {
            "needs_background": "light"
          }
        }
      ]
    }
  ]
}